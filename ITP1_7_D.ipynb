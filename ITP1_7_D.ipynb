{
 "cells": [
  {
   "cell_type": "code",
   "execution_count": 3,
   "metadata": {},
   "outputs": [
    {
     "name": "stdout",
     "output_type": "stream",
     "text": [
      "3 2 3\n",
      "1 2\n",
      "0 3\n",
      "4 5\n",
      "1 2 1\n",
      "0 3 2\n",
      "1 8 5\n",
      "0 9 6\n",
      "4 23 14\n"
     ]
    }
   ],
   "source": [
    "n,m,l = map(int, input().split())\n",
    "lstA = [[0 for i in range(m)]for j in range(n)]\n",
    "lstB = [[0 for i in range(l)]for j in range(m)]\n",
    "lstC = [[0 for i in range(l)]for j in range(n)]\n",
    "for i in range(n):\n",
    "    lstA[i] = list(map(int,input().split()))\n",
    "for i in range(m):\n",
    "    lstB[i] = list(map(int,input().split()))\n",
    "for i in range(n):\n",
    "    for j in range(l):\n",
    "        s = 0\n",
    "        for k in range(m):\n",
    "            s = s+lstA[i][k]*lstB[k][j]\n",
    "        lstC[i][j] = s\n",
    "for i in range(n):\n",
    "    print(\" \".join(map(str,lstC[i])))"
   ]
  },
  {
   "cell_type": "code",
   "execution_count": null,
   "metadata": {},
   "outputs": [],
   "source": []
  }
 ],
 "metadata": {
  "kernelspec": {
   "display_name": "Python 3",
   "language": "python",
   "name": "python3"
  },
  "language_info": {
   "codemirror_mode": {
    "name": "ipython",
    "version": 3
   },
   "file_extension": ".py",
   "mimetype": "text/x-python",
   "name": "python",
   "nbconvert_exporter": "python",
   "pygments_lexer": "ipython3",
   "version": "3.7.6"
  }
 },
 "nbformat": 4,
 "nbformat_minor": 4
}
