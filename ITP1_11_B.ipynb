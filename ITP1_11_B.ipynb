{
 "cells": [
  {
   "cell_type": "code",
   "execution_count": 2,
   "metadata": {},
   "outputs": [
    {
     "name": "stdout",
     "output_type": "stream",
     "text": [
      "1 2 3 4 5 6\n",
      "3\n",
      "6 5\n",
      "3\n",
      "1 3\n",
      "5\n",
      "3 2\n",
      "6\n"
     ]
    }
   ],
   "source": [
    "class Dice:\n",
    "    def __init__(self,Dlst):\n",
    "        self.Dlst = Dlst\n",
    "        \n",
    "    def move(self,t):\n",
    "        Mlst = list(t)\n",
    "        for i in Mlst:\n",
    "            if i==\"S\":\n",
    "                z = self.Dlst[0]\n",
    "                self.Dlst[0] = self.Dlst[4]\n",
    "                self.Dlst[4] = self.Dlst[5]\n",
    "                self.Dlst[5] = self.Dlst[1]\n",
    "                self.Dlst[1] = z\n",
    "            if i==\"N\":\n",
    "                z = self.Dlst[1]\n",
    "                self.Dlst[1] = self.Dlst[5]\n",
    "                self.Dlst[5] = self.Dlst[4]\n",
    "                self.Dlst[4] = self.Dlst[0]\n",
    "                self.Dlst[0] = z\n",
    "            if i==\"E\":\n",
    "                z = self.Dlst[0]\n",
    "                self.Dlst[0] = self.Dlst[3]\n",
    "                self.Dlst[3] = self.Dlst[5]\n",
    "                self.Dlst[5] = self.Dlst[2]\n",
    "                self.Dlst[2] = z\n",
    "            if i==\"W\":\n",
    "                z = self.Dlst[2]\n",
    "                self.Dlst[2] = self.Dlst[5]\n",
    "                self.Dlst[5] = self.Dlst[3]\n",
    "                self.Dlst[3] = self.Dlst[0]\n",
    "                self.Dlst[0] = z\n",
    "                \n",
    "    def question(self,top,front):\n",
    "        ans = 0\n",
    "        mlst = list(\"SENW\")\n",
    "        for i in mlst:\n",
    "            self.move(i)\n",
    "            if Dlst[0]==top and Dlst[1]==front:\n",
    "                ans = Dlst[2]\n",
    "            for j in mlst:\n",
    "                self.move(j)\n",
    "                if Dlst[0]==top and Dlst[1]==front:\n",
    "                    ans = Dlst[2]\n",
    "                for k in mlst:\n",
    "                    self.move(k)\n",
    "                    if Dlst[0]==top and Dlst[1]==front:\n",
    "                        ans = Dlst[2]\n",
    "                    for l in mlst:\n",
    "                        self.move(l)\n",
    "                        if Dlst[0]==top and Dlst[1]==front:\n",
    "                            ans = Dlst[2]\n",
    "        print(ans)\n",
    "        \n",
    "    def prt(self):\n",
    "        print(self.Dlst[0])\n",
    "        \n",
    "Dlst = list(map(int,input().split()))\n",
    "dice1 = Dice(Dlst)\n",
    "q = int(input())\n",
    "for i in range(q):\n",
    "    top,front = map(int,input().split())\n",
    "    dice1.question(top,front)"
   ]
  },
  {
   "cell_type": "code",
   "execution_count": null,
   "metadata": {},
   "outputs": [],
   "source": []
  }
 ],
 "metadata": {
  "kernelspec": {
   "display_name": "Python 3",
   "language": "python",
   "name": "python3"
  },
  "language_info": {
   "codemirror_mode": {
    "name": "ipython",
    "version": 3
   },
   "file_extension": ".py",
   "mimetype": "text/x-python",
   "name": "python",
   "nbconvert_exporter": "python",
   "pygments_lexer": "ipython3",
   "version": "3.7.6"
  }
 },
 "nbformat": 4,
 "nbformat_minor": 4
}
