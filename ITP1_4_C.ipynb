{
 "cells": [
  {
   "cell_type": "code",
   "execution_count": 1,
   "metadata": {},
   "outputs": [
    {
     "name": "stdout",
     "output_type": "stream",
     "text": [
      "13 * 2\n",
      "26\n",
      "100 / 10\n",
      "10\n",
      "27 + 81\n",
      "108\n",
      "56 - 18\n",
      "38\n",
      "100 / 30\n",
      "3\n",
      "0 ? 0\n"
     ]
    }
   ],
   "source": [
    "while True:\n",
    "    a, op, b = input().split()\n",
    "    a = int(a)\n",
    "    b = int(b)\n",
    "    op = str(op)\n",
    "    if op == \"+\":\n",
    "        print(a+b)\n",
    "    elif op == \"-\":\n",
    "        print(a-b)\n",
    "    elif op == \"*\":\n",
    "        print(a*b)\n",
    "    elif op == \"/\":\n",
    "        print(a//b)\n",
    "    elif op == \"?\":\n",
    "        break"
   ]
  },
  {
   "cell_type": "code",
   "execution_count": null,
   "metadata": {},
   "outputs": [],
   "source": []
  }
 ],
 "metadata": {
  "kernelspec": {
   "display_name": "Python 3",
   "language": "python",
   "name": "python3"
  },
  "language_info": {
   "codemirror_mode": {
    "name": "ipython",
    "version": 3
   },
   "file_extension": ".py",
   "mimetype": "text/x-python",
   "name": "python",
   "nbconvert_exporter": "python",
   "pygments_lexer": "ipython3",
   "version": "3.7.6"
  }
 },
 "nbformat": 4,
 "nbformat_minor": 4
}
