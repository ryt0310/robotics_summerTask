{
 "cells": [
  {
   "cell_type": "code",
   "execution_count": 7,
   "metadata": {},
   "outputs": [
    {
     "name": "stdout",
     "output_type": "stream",
     "text": [
      "3\n",
      "S 10\n",
      "H 13\n",
      "D 1\n",
      "-----\n",
      "S 1\n",
      "S 2\n",
      "S 3\n",
      "S 4\n",
      "S 5\n",
      "S 6\n",
      "S 7\n",
      "S 8\n",
      "S 9\n",
      "S 11\n",
      "S 12\n",
      "S 13\n",
      "H 1\n",
      "H 2\n",
      "H 3\n",
      "H 4\n",
      "H 5\n",
      "H 6\n",
      "H 7\n",
      "H 8\n",
      "H 9\n",
      "H 10\n",
      "H 11\n",
      "H 12\n",
      "C 1\n",
      "C 2\n",
      "C 3\n",
      "C 4\n",
      "C 5\n",
      "C 6\n",
      "C 7\n",
      "C 8\n",
      "C 9\n",
      "C 10\n",
      "C 11\n",
      "C 12\n",
      "C 13\n",
      "D 2\n",
      "D 3\n",
      "D 4\n",
      "D 5\n",
      "D 6\n",
      "D 7\n",
      "D 8\n",
      "D 9\n",
      "D 10\n",
      "D 11\n",
      "D 12\n",
      "D 13\n"
     ]
    }
   ],
   "source": [
    "n = int(input())\n",
    "cards = [[False for i in range(13)] for j in range(4)]\n",
    "mark = [\"S\", \"H\", \"C\", \"D\"]\n",
    "for s in range(n):\n",
    "        m,r = input().split()    \n",
    "        r = int(r)\n",
    "        cards[mark.index(m)][r-1] = True\n",
    "print(\"-----\")\n",
    "for i in range(4):\n",
    "    for j in range(13):\n",
    "        if cards[i][j] == False:\n",
    "            print(mark[i], j+1)"
   ]
  },
  {
   "cell_type": "code",
   "execution_count": null,
   "metadata": {},
   "outputs": [],
   "source": []
  }
 ],
 "metadata": {
  "kernelspec": {
   "display_name": "Python 3",
   "language": "python",
   "name": "python3"
  },
  "language_info": {
   "codemirror_mode": {
    "name": "ipython",
    "version": 3
   },
   "file_extension": ".py",
   "mimetype": "text/x-python",
   "name": "python",
   "nbconvert_exporter": "python",
   "pygments_lexer": "ipython3",
   "version": "3.7.6"
  }
 },
 "nbformat": 4,
 "nbformat_minor": 4
}
