{
 "cells": [
  {
   "cell_type": "code",
   "execution_count": null,
   "metadata": {},
   "outputs": [],
   "source": [
    "class Dice:\n",
    "    def __init__(self,Dlst):\n",
    "        self.Dlst = Dlst\n",
    "        \n",
    "    def move(self,t):\n",
    "        Mlst = list(t)\n",
    "        for i in Mlst:\n",
    "            if i==\"S\":\n",
    "                z = self.Dlst[0]\n",
    "                self.Dlst[0] = self.Dlst[4]\n",
    "                self.Dlst[4] = self.Dlst[5]\n",
    "                self.Dlst[5] = self.Dlst[1]\n",
    "                self.Dlst[1] = z\n",
    "            if i==\"N\":\n",
    "                z = self.Dlst[1]\n",
    "                self.Dlst[1] = self.Dlst[5]\n",
    "                self.Dlst[5] = self.Dlst[4]\n",
    "                self.Dlst[4] = self.Dlst[0]\n",
    "                self.Dlst[0] = z\n",
    "            if i==\"E\":\n",
    "                z = self.Dlst[0]\n",
    "                self.Dlst[0] = self.Dlst[3]\n",
    "                self.Dlst[3] = self.Dlst[5]\n",
    "                self.Dlst[5] = self.Dlst[2]\n",
    "                self.Dlst[2] = z\n",
    "            if i==\"W\":\n",
    "                z = self.Dlst[2]\n",
    "                self.Dlst[2] = self.Dlst[5]\n",
    "                self.Dlst[5] = self.Dlst[3]\n",
    "                self.Dlst[3] = self.Dlst[0]\n",
    "                self.Dlst[0] = z\n",
    "                \n",
    "    def prt(self):\n",
    "        print(self.Dlst[0])\n",
    "        \n",
    "Dlst = list(map(int,input().split()))\n",
    "dice1 = Dice(Dlst)\n",
    "t = str(input())\n",
    "dice1.move(t)\n",
    "dice1.prt()"
   ]
  },
  {
   "cell_type": "code",
   "execution_count": null,
   "metadata": {},
   "outputs": [],
   "source": []
  }
 ],
 "metadata": {
  "kernelspec": {
   "display_name": "Python 3",
   "language": "python",
   "name": "python3"
  },
  "language_info": {
   "codemirror_mode": {
    "name": "ipython",
    "version": 3
   },
   "file_extension": ".py",
   "mimetype": "text/x-python",
   "name": "python",
   "nbconvert_exporter": "python",
   "pygments_lexer": "ipython3",
   "version": "3.7.6"
  }
 },
 "nbformat": 4,
 "nbformat_minor": 4
}
