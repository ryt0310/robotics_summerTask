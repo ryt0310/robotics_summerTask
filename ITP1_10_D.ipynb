{
 "cells": [
  {
   "cell_type": "code",
   "execution_count": 2,
   "metadata": {},
   "outputs": [
    {
     "name": "stdout",
     "output_type": "stream",
     "text": [
      "3\n",
      "1 2 3\n",
      "2 0 4\n",
      "4\n",
      "2.449489742783178\n",
      "2.154434690031884\n",
      "2\n"
     ]
    }
   ],
   "source": [
    "import math\n",
    "n = int(input())\n",
    "x = list(map(int,input().split()))\n",
    "y = list(map(int,input().split()))\n",
    "M = 0\n",
    "Y = 0\n",
    "P = 0\n",
    "C = 0\n",
    "for i in range(n):\n",
    "    M = M+abs(x[i]-y[i])\n",
    "    Y = Y+(x[i]-y[i])*(x[i]-y[i])\n",
    "    P = P+(abs(x[i]-y[i])*abs(x[i]-y[i])*abs(x[i]-y[i]))\n",
    "    if C<abs(x[i]-y[i]):\n",
    "        C = abs(x[i]-y[i])\n",
    "Y = math.sqrt(Y)\n",
    "P = math.pow(P,1/3)\n",
    "print(M)\n",
    "print(Y)\n",
    "print(P)\n",
    "print(C)"
   ]
  },
  {
   "cell_type": "code",
   "execution_count": null,
   "metadata": {},
   "outputs": [],
   "source": []
  }
 ],
 "metadata": {
  "kernelspec": {
   "display_name": "Python 3",
   "language": "python",
   "name": "python3"
  },
  "language_info": {
   "codemirror_mode": {
    "name": "ipython",
    "version": 3
   },
   "file_extension": ".py",
   "mimetype": "text/x-python",
   "name": "python",
   "nbconvert_exporter": "python",
   "pygments_lexer": "ipython3",
   "version": "3.7.6"
  }
 },
 "nbformat": 4,
 "nbformat_minor": 4
}
