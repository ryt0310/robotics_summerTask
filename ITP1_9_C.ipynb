{
 "cells": [
  {
   "cell_type": "code",
   "execution_count": 3,
   "metadata": {},
   "outputs": [
    {
     "name": "stdout",
     "output_type": "stream",
     "text": [
      "3\n",
      "cat dog\n",
      "fish fish\n",
      "lion tiger\n",
      "1 7\n"
     ]
    }
   ],
   "source": [
    "n = int(input())\n",
    "countT = 0\n",
    "countH = 0\n",
    "for i in range(n):\n",
    "    t,h = map(str,input().split())\n",
    "    if t>h:\n",
    "        countT = countT+3\n",
    "    elif t<h:\n",
    "        countH = countH+3\n",
    "    else:\n",
    "        countT = countT+1\n",
    "        countH = countH+1\n",
    "print(str(countT)+\" \"+str(countH))\n",
    "        "
   ]
  },
  {
   "cell_type": "code",
   "execution_count": null,
   "metadata": {},
   "outputs": [],
   "source": []
  }
 ],
 "metadata": {
  "kernelspec": {
   "display_name": "Python 3",
   "language": "python",
   "name": "python3"
  },
  "language_info": {
   "codemirror_mode": {
    "name": "ipython",
    "version": 3
   },
   "file_extension": ".py",
   "mimetype": "text/x-python",
   "name": "python",
   "nbconvert_exporter": "python",
   "pygments_lexer": "ipython3",
   "version": "3.7.6"
  }
 },
 "nbformat": 4,
 "nbformat_minor": 4
}
