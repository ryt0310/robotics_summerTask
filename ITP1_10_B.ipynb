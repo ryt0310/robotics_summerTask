{
 "cells": [
  {
   "cell_type": "code",
   "execution_count": 4,
   "metadata": {},
   "outputs": [
    {
     "name": "stdout",
     "output_type": "stream",
     "text": [
      "4 3 90\n",
      "6.00000\n",
      "12.00000\n",
      "3.00000\n"
     ]
    }
   ],
   "source": [
    "import math\n",
    "a = list(map(float,input().split()))\n",
    "θ = math.radians(a[2])\n",
    "S = 1/2*(a[0]*a[1]*math.sin(θ))\n",
    "L = a[0]+a[1]+math.sqrt(a[0]*a[0]+a[1]*a[1]-2*a[0]*a[1]*math.cos(θ))\n",
    "h = a[1]*math.sin(θ)\n",
    "print(\"{:.5f}\".format(S))\n",
    "print(\"{:.5f}\".format(L))\n",
    "print(\"{:.5f}\".format(h))"
   ]
  },
  {
   "cell_type": "code",
   "execution_count": null,
   "metadata": {},
   "outputs": [],
   "source": []
  }
 ],
 "metadata": {
  "kernelspec": {
   "display_name": "Python 3",
   "language": "python",
   "name": "python3"
  },
  "language_info": {
   "codemirror_mode": {
    "name": "ipython",
    "version": 3
   },
   "file_extension": ".py",
   "mimetype": "text/x-python",
   "name": "python",
   "nbconvert_exporter": "python",
   "pygments_lexer": "ipython3",
   "version": "3.7.6"
  }
 },
 "nbformat": 4,
 "nbformat_minor": 4
}
