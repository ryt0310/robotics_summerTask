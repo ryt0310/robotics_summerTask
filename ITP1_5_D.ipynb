{
 "cells": [
  {
   "cell_type": "code",
   "execution_count": 6,
   "metadata": {},
   "outputs": [
    {
     "name": "stdout",
     "output_type": "stream",
     "text": [
      "30\n",
      " 3 6 9 12 13 15 18 21 23 24 27 30"
     ]
    }
   ],
   "source": [
    "n = int(input())\n",
    "i = 1 \n",
    "while i <= n:\n",
    "    a = i\n",
    "    if a%3 == 0:\n",
    "        print(\" \"+str(i),end='')\n",
    "    elif a%10 == 3:\n",
    "        print(\" \"+str(i),end='')\n",
    "    else:\n",
    "        while True:\n",
    "            if a == 3:\n",
    "                print(\" \"+str(i),end='')\n",
    "                break\n",
    "            else:\n",
    "                a = a//10\n",
    "                if(a == 0):\n",
    "                    break\n",
    "    i = i+1"
   ]
  },
  {
   "cell_type": "code",
   "execution_count": null,
   "metadata": {},
   "outputs": [],
   "source": []
  }
 ],
 "metadata": {
  "kernelspec": {
   "display_name": "Python 3",
   "language": "python",
   "name": "python3"
  }
 },
 "nbformat": 4,
 "nbformat_minor": 4
}
