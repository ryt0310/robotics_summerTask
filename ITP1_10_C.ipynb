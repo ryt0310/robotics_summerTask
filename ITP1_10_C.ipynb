{
 "cells": [
  {
   "cell_type": "code",
   "execution_count": 3,
   "metadata": {},
   "outputs": [
    {
     "name": "stdout",
     "output_type": "stream",
     "text": [
      "5 \n",
      "70 80 100 90 20\n",
      "27.85677655436824\n",
      "3\n",
      "80 80 90\n",
      "4.714045207910316\n",
      "3\n",
      "80 80 80\n",
      "0.0\n",
      "0\n"
     ]
    }
   ],
   "source": [
    "import math\n",
    "while True:\n",
    "    n = int(input())\n",
    "    if n==0:\n",
    "        break\n",
    "    s = list(map(int,input().split()))\n",
    "    m = 0\n",
    "    a1 = 0\n",
    "    for i in s:\n",
    "        m = m+i\n",
    "    m = m/n\n",
    "    for i in s:\n",
    "        a1 = a1+((i-m)*(i-m))\n",
    "    a2 = a1/n\n",
    "    a = math.sqrt(a2)\n",
    "    print(a)"
   ]
  },
  {
   "cell_type": "code",
   "execution_count": null,
   "metadata": {},
   "outputs": [],
   "source": []
  }
 ],
 "metadata": {
  "kernelspec": {
   "display_name": "Python 3",
   "language": "python",
   "name": "python3"
  },
  "language_info": {
   "codemirror_mode": {
    "name": "ipython",
    "version": 3
   },
   "file_extension": ".py",
   "mimetype": "text/x-python",
   "name": "python",
   "nbconvert_exporter": "python",
   "pygments_lexer": "ipython3",
   "version": "3.7.6"
  }
 },
 "nbformat": 4,
 "nbformat_minor": 4
}
