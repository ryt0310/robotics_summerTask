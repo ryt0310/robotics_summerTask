{
 "cells": [
  {
   "cell_type": "code",
   "execution_count": 11,
   "metadata": {},
   "outputs": [
    {
     "name": "stdout",
     "output_type": "stream",
     "text": [
      "vanceknowledgetoad\n",
      "advanced\n",
      "No\n"
     ]
    }
   ],
   "source": [
    "lstA = list(input())\n",
    "lstB = list(input())\n",
    "nA = len(lstA)\n",
    "nB = len(lstB)\n",
    "a = 0\n",
    "while True:\n",
    "    if a==nA:\n",
    "        print(\"No\")\n",
    "        break\n",
    "    count = 0\n",
    "    for i in range(nB):\n",
    "        if lstA[i]==lstB[i]:\n",
    "            count = count+1\n",
    "    if count==nB:\n",
    "        print(\"Yes\")\n",
    "        break\n",
    "    lstA.insert(0,lstA[-1])\n",
    "    lstA.pop(-1)\n",
    "    a = a+1\n"
   ]
  },
  {
   "cell_type": "code",
   "execution_count": null,
   "metadata": {},
   "outputs": [],
   "source": []
  }
 ],
 "metadata": {
  "kernelspec": {
   "display_name": "Python 3",
   "language": "python",
   "name": "python3"
  },
  "language_info": {
   "codemirror_mode": {
    "name": "ipython",
    "version": 3
   },
   "file_extension": ".py",
   "mimetype": "text/x-python",
   "name": "python",
   "nbconvert_exporter": "python",
   "pygments_lexer": "ipython3",
   "version": "3.7.6"
  }
 },
 "nbformat": 4,
 "nbformat_minor": 4
}
