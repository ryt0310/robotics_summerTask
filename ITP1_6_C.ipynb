{
 "cells": [
  {
   "cell_type": "code",
   "execution_count": 4,
   "metadata": {},
   "outputs": [
    {
     "name": "stdout",
     "output_type": "stream",
     "text": [
      "3\n",
      "1 1 3 8\n",
      "3 2 2 7\n",
      "4 3 8 1\n",
      "0 0 8 0 0 0 0 0 0 0 \n",
      "0 0 0 0 0 0 0 0 0 0 \n",
      "0 0 0 0 0 0 0 0 0 0 \n",
      "####################\n",
      "0 0 0 0 0 0 0 0 0 0 \n",
      "0 0 0 0 0 0 0 0 0 0 \n",
      "0 0 0 0 0 0 0 0 0 0 \n",
      "####################\n",
      "0 0 0 0 0 0 0 0 0 0 \n",
      "0 7 0 0 0 0 0 0 0 0 \n",
      "0 0 0 0 0 0 0 0 0 0 \n",
      "####################\n",
      "0 0 0 0 0 0 0 0 0 0 \n",
      "0 0 0 0 0 0 0 0 0 0 \n",
      "0 0 0 0 0 0 0 1 0 0 \n",
      "\n"
     ]
    }
   ],
   "source": [
    "count = [[[0 for i in range(10)] for j in range(3)] for k in range(4)]\n",
    "n = int(input())\n",
    "for i in range(n):\n",
    "    lst = list(map(int, input().split())) \n",
    "    count[lst[0]-1][lst[1]-1][lst[2]-1] = lst[3]\n",
    "for i in range(4):\n",
    "    for j in range(3):\n",
    "        for k in range(10):\n",
    "            print(str(count[i][j][k])+\" \",end=\"\")\n",
    "        print()\n",
    "    if i<3:\n",
    "        print(\"####################\")\n",
    "print()"
   ]
  },
  {
   "cell_type": "code",
   "execution_count": null,
   "metadata": {},
   "outputs": [],
   "source": []
  }
 ],
 "metadata": {
  "kernelspec": {
   "display_name": "Python 3",
   "language": "python",
   "name": "python3"
  },
  "language_info": {
   "codemirror_mode": {
    "name": "ipython",
    "version": 3
   },
   "file_extension": ".py",
   "mimetype": "text/x-python",
   "name": "python",
   "nbconvert_exporter": "python",
   "pygments_lexer": "ipython3",
   "version": "3.7.6"
  }
 },
 "nbformat": 4,
 "nbformat_minor": 4
}
