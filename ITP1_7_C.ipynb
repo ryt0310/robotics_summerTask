{
 "cells": [
  {
   "cell_type": "code",
   "execution_count": 2,
   "metadata": {},
   "outputs": [
    {
     "name": "stdout",
     "output_type": "stream",
     "text": [
      "2 3\n",
      "1 2 3\n",
      "3 4 5\n",
      "1 2 3 6\n",
      "3 4 5 12\n",
      "4 6 8 18\n"
     ]
    }
   ],
   "source": [
    "r,c = map(int,input().split())\n",
    "lst = [[0 for i in range(c)]for j in range(r+1)]\n",
    "for i in range(r):\n",
    "    lst[i] = list(map(int, input().split()))\n",
    "for i in range(r+1):\n",
    "    s = 0\n",
    "    for j in range(c):\n",
    "        s = s+lst[i][j]\n",
    "    lst[i].append(s)\n",
    "for i in range(c+1):\n",
    "    t = 0\n",
    "    for j in range(r):\n",
    "        t = t+lst[j][i]\n",
    "    lst[r][i] = t\n",
    "for i in range(r+1):\n",
    "    print(\" \".join(map(str,lst[i])))"
   ]
  },
  {
   "cell_type": "code",
   "execution_count": null,
   "metadata": {},
   "outputs": [],
   "source": []
  }
 ],
 "metadata": {
  "kernelspec": {
   "display_name": "Python 3",
   "language": "python",
   "name": "python3"
  },
  "language_info": {
   "codemirror_mode": {
    "name": "ipython",
    "version": 3
   },
   "file_extension": ".py",
   "mimetype": "text/x-python",
   "name": "python",
   "nbconvert_exporter": "python",
   "pygments_lexer": "ipython3",
   "version": "3.7.6"
  }
 },
 "nbformat": 4,
 "nbformat_minor": 4
}
