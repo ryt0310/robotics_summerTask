{
 "cells": [
  {
   "cell_type": "code",
   "execution_count": null,
   "metadata": {},
   "outputs": [
    {
     "name": "stdout",
     "output_type": "stream",
     "text": [
      "aabc\n",
      "3\n",
      "1\n",
      "2\n",
      "1\n",
      "aabc\n",
      "vwxyz\n",
      "2\n",
      "3\n",
      "4\n",
      "xyzvw\n"
     ]
    }
   ],
   "source": [
    "while True:\n",
    "    lstA = list(input())\n",
    "    lstB = []\n",
    "    if lstA[0] == str(\"-\"):\n",
    "        break\n",
    "    n = int(input())\n",
    "    for i in range(n):\n",
    "        lstB.append(int(input()))\n",
    "    for i in lstB:\n",
    "        for j in range(i):\n",
    "            lstA.append(lstA[0])\n",
    "            lstA.pop(0)\n",
    "    for i in lstA:\n",
    "        print(i,end=\"\")\n",
    "    print()\n",
    "    "
   ]
  },
  {
   "cell_type": "code",
   "execution_count": null,
   "metadata": {},
   "outputs": [],
   "source": []
  }
 ],
 "metadata": {
  "kernelspec": {
   "display_name": "Python 3",
   "language": "python",
   "name": "python3"
  },
  "language_info": {
   "codemirror_mode": {
    "name": "ipython",
    "version": 3
   },
   "file_extension": ".py",
   "mimetype": "text/x-python",
   "name": "python",
   "nbconvert_exporter": "python",
   "pygments_lexer": "ipython3",
   "version": "3.7.6"
  }
 },
 "nbformat": 4,
 "nbformat_minor": 4
}
