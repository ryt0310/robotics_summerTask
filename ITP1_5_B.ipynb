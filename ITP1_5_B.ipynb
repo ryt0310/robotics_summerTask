{
 "cells": [
  {
   "cell_type": "code",
   "execution_count": 4,
   "metadata": {},
   "outputs": [
    {
     "name": "stdout",
     "output_type": "stream",
     "text": [
      "3 4\n",
      "####\n",
      "#..#\n",
      "####\n",
      "5 6\n",
      "######\n",
      "#....#\n",
      "#....#\n",
      "#....#\n",
      "######\n",
      "3 3\n",
      "###\n",
      "#.#\n",
      "###\n",
      "0 0\n"
     ]
    }
   ],
   "source": [
    "while True:\n",
    "    H,W = map(int, input().split())\n",
    "    if H == 0 and W == 0:\n",
    "        break\n",
    "    for i in range(H):\n",
    "        for s in range(W):\n",
    "            if i == 0 or s == 0 or i == H-1 or s == W-1:\n",
    "                print(\"#\", end=\"\")\n",
    "            else:\n",
    "                print(\".\", end=\"\")\n",
    "        print()\n",
    "    "
   ]
  },
  {
   "cell_type": "code",
   "execution_count": null,
   "metadata": {},
   "outputs": [],
   "source": []
  }
 ],
 "metadata": {
  "kernelspec": {
   "display_name": "Python 3",
   "language": "python",
   "name": "python3"
  },
  "language_info": {
   "codemirror_mode": {
    "name": "ipython",
    "version": 3
   },
   "file_extension": ".py",
   "mimetype": "text/x-python",
   "name": "python",
   "nbconvert_exporter": "python",
   "pygments_lexer": "ipython3",
   "version": "3.7.6"
  }
 },
 "nbformat": 4,
 "nbformat_minor": 4
}
