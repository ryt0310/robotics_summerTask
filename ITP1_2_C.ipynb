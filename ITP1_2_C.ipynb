{
 "cells": [
  {
   "cell_type": "code",
   "execution_count": 7,
   "metadata": {},
   "outputs": [
    {
     "name": "stdout",
     "output_type": "stream",
     "text": [
      "3 8 1\n",
      "1 3 8\n"
     ]
    }
   ],
   "source": [
    "z = input().split()\n",
    "a = int(z[0])\n",
    "b = int(z[1])\n",
    "c = int(z[2])\n",
    "if a>b:\n",
    "    a,b = b,a\n",
    "if b>c:\n",
    "    b,c = c,b\n",
    "if a>b:\n",
    "    a,b = b,a\n",
    "    \n",
    "print(a, b ,c)"
   ]
  },
  {
   "cell_type": "code",
   "execution_count": null,
   "metadata": {},
   "outputs": [],
   "source": []
  }
 ],
 "metadata": {
  "kernelspec": {
   "display_name": "Python 3",
   "language": "python",
   "name": "python3"
  },
  "language_info": {
   "codemirror_mode": {
    "name": "ipython",
    "version": 3
   },
   "file_extension": ".py",
   "mimetype": "text/x-python",
   "name": "python",
   "nbconvert_exporter": "python",
   "pygments_lexer": "ipython3",
   "version": "3.7.6"
  }
 },
 "nbformat": 4,
 "nbformat_minor": 4
}
