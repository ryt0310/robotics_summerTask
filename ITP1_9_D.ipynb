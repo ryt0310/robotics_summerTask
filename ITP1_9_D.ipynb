{
 "cells": [
  {
   "cell_type": "code",
   "execution_count": 4,
   "metadata": {},
   "outputs": [
    {
     "name": "stdout",
     "output_type": "stream",
     "text": [
      "abcde\n",
      "3\n",
      "replace 1 3 xyz\n",
      "reverse 0 2\n",
      "print 1 4\n",
      "xaze\n"
     ]
    }
   ],
   "source": [
    "word = list(input())\n",
    "q = int(input())\n",
    "for i in range(q):\n",
    "    order = list(map(str,input().split()))\n",
    "    order[1] = int(order[1])\n",
    "    order[2] = int(order[2])\n",
    "    if order[0]==\"print\":\n",
    "        for i in range(order[1],order[2]+1):\n",
    "            print(word[i],end=\"\")\n",
    "        print()\n",
    "    if order[0]==\"reverse\":\n",
    "        a = 0\n",
    "        for i in range(order[1],((order[1]+order[2])//2)+1):\n",
    "            word[i],word[order[2]-a] = word[order[2]-a],word[i]\n",
    "            a = a+1\n",
    "    if order[0]==\"replace\":\n",
    "        lstRe = list(order[3])\n",
    "        for i in range(len(lstRe)):\n",
    "            word[order[1]+i] = lstRe[i]\n",
    "            "
   ]
  },
  {
   "cell_type": "code",
   "execution_count": null,
   "metadata": {},
   "outputs": [],
   "source": []
  }
 ],
 "metadata": {
  "kernelspec": {
   "display_name": "Python 3",
   "language": "python",
   "name": "python3"
  },
  "language_info": {
   "codemirror_mode": {
    "name": "ipython",
    "version": 3
   },
   "file_extension": ".py",
   "mimetype": "text/x-python",
   "name": "python",
   "nbconvert_exporter": "python",
   "pygments_lexer": "ipython3",
   "version": "3.7.6"
  }
 },
 "nbformat": 4,
 "nbformat_minor": 4
}
