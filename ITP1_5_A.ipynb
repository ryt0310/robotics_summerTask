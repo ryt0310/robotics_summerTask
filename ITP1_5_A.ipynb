{
 "cells": [
  {
   "cell_type": "code",
   "execution_count": 3,
   "metadata": {},
   "outputs": [
    {
     "name": "stdout",
     "output_type": "stream",
     "text": [
      "3 4\n",
      "####\n",
      "####\n",
      "####\n",
      "0 0\n"
     ]
    }
   ],
   "source": [
    "while True:\n",
    "    H,W = map(int, input().split())\n",
    "    if H == 0 and W == 0:\n",
    "        break\n",
    "    for i in range(H):\n",
    "        for s in range(W):\n",
    "            print(\"#\", end=\"\")\n",
    "        print()\n",
    "    "
   ]
  },
  {
   "cell_type": "code",
   "execution_count": null,
   "metadata": {},
   "outputs": [],
   "source": []
  }
 ],
 "metadata": {
  "kernelspec": {
   "display_name": "Python 3",
   "language": "python",
   "name": "python3"
  }
 },
 "nbformat": 4,
 "nbformat_minor": 4
}
