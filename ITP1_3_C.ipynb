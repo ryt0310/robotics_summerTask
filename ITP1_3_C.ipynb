{
 "cells": [
  {
   "cell_type": "code",
   "execution_count": 6,
   "metadata": {},
   "outputs": [
    {
     "name": "stdout",
     "output_type": "stream",
     "text": [
      "3 2\n",
      "2 3\n",
      "2 2\n",
      "2 2\n",
      "5 3\n",
      "3 5\n",
      "0 0\n"
     ]
    }
   ],
   "source": [
    "while True:\n",
    "    a,b = map(int, input().split())\n",
    "    if a == 0 and b == 0:\n",
    "        break\n",
    "    if a > b:\n",
    "        print(b, a)\n",
    "    else:\n",
    "        print(a, b)"
   ]
  },
  {
   "cell_type": "code",
   "execution_count": null,
   "metadata": {},
   "outputs": [],
   "source": []
  }
 ],
 "metadata": {
  "kernelspec": {
   "display_name": "Python 3",
   "language": "python",
   "name": "python3"
  },
  "language_info": {
   "codemirror_mode": {
    "name": "ipython",
    "version": 3
   },
   "file_extension": ".py",
   "mimetype": "text/x-python",
   "name": "python",
   "nbconvert_exporter": "python",
   "pygments_lexer": "ipython3",
   "version": "3.7.6"
  }
 },
 "nbformat": 4,
 "nbformat_minor": 4
}
