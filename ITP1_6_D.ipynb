{
 "cells": [
  {
   "cell_type": "code",
   "execution_count": 15,
   "metadata": {},
   "outputs": [
    {
     "name": "stdout",
     "output_type": "stream",
     "text": [
      "3 4\n",
      "1 2 0 1\n",
      "0 3 0 1\n",
      "4 1 1 0\n",
      "1\n",
      "2\n",
      "3\n",
      "0\n",
      "5\n",
      "6\n",
      "9\n"
     ]
    }
   ],
   "source": [
    "n,m = input().split()\n",
    "n = int(n)\n",
    "m = int(m)\n",
    "lstA = [[0 for i in range(m)]for j in range(n)]\n",
    "for i in range(n):\n",
    "    lstA[i] = list(map(int,input().split()))\n",
    "lstB = [[0 for i in range(1)]for j in range(m)]\n",
    "for i in range(m):\n",
    "    lstB[i][0] = int(input())\n",
    "lstC = [[0 for i in range(1)]for j in range(n)]\n",
    "for i in range(n):\n",
    "    for j in range(m):\n",
    "        lstC[i][0] = lstC[i][0]+lstA[i][j]*lstB[j][0]\n",
    "    print(lstC[i][0])"
   ]
  },
  {
   "cell_type": "code",
   "execution_count": null,
   "metadata": {},
   "outputs": [],
   "source": []
  }
 ],
 "metadata": {
  "kernelspec": {
   "display_name": "Python 3",
   "language": "python",
   "name": "python3"
  },
  "language_info": {
   "codemirror_mode": {
    "name": "ipython",
    "version": 3
   },
   "file_extension": ".py",
   "mimetype": "text/x-python",
   "name": "python",
   "nbconvert_exporter": "python",
   "pygments_lexer": "ipython3",
   "version": "3.7.6"
  }
 },
 "nbformat": 4,
 "nbformat_minor": 4
}
