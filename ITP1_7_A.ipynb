{
 "cells": [
  {
   "cell_type": "code",
   "execution_count": 2,
   "metadata": {},
   "outputs": [
    {
     "name": "stdout",
     "output_type": "stream",
     "text": [
      "40 42 -1\n",
      "A\n",
      "20 30 -1\n",
      "C\n",
      "-1 -1 -1\n"
     ]
    }
   ],
   "source": [
    "while True:\n",
    "    m,f,r = input().split()\n",
    "    m = int(m)\n",
    "    f = int(f)\n",
    "    r = int(r)\n",
    "    if m==-1 and f==-1 and r==-1:\n",
    "        break\n",
    "    elif m+f>=80:\n",
    "        print(\"A\")\n",
    "    elif m+f>=65 and m+f<80:\n",
    "        print(\"B\")\n",
    "    elif m+f>=50 and m+f<65:\n",
    "        print(\"C\")\n",
    "    elif m+f>=30 and m+f<50:\n",
    "        if r>=50:\n",
    "            print(\"C\")\n",
    "        print(\"D\")\n",
    "    elif m+f<30:\n",
    "        print(\"F\")"
   ]
  },
  {
   "cell_type": "code",
   "execution_count": null,
   "metadata": {},
   "outputs": [],
   "source": []
  }
 ],
 "metadata": {
  "kernelspec": {
   "display_name": "Python 3",
   "language": "python",
   "name": "python3"
  },
  "language_info": {
   "codemirror_mode": {
    "name": "ipython",
    "version": 3
   },
   "file_extension": ".py",
   "mimetype": "text/x-python",
   "name": "python",
   "nbconvert_exporter": "python",
   "pygments_lexer": "ipython3",
   "version": "3.7.6"
  }
 },
 "nbformat": 4,
 "nbformat_minor": 4
}
