{
 "cells": [
  {
   "cell_type": "code",
   "execution_count": 6,
   "metadata": {},
   "outputs": [
    {
     "name": "stdout",
     "output_type": "stream",
     "text": [
      "This is a pen.\n",
      "a : 1\n",
      "b : 0\n",
      "c : 0\n",
      "d : 0\n",
      "e : 1\n",
      "f : 0\n",
      "g : 0\n",
      "h : 1\n",
      "i : 2\n",
      "j : 0\n",
      "k : 0\n",
      "l : 0\n",
      "m : 0\n",
      "n : 1\n",
      "o : 0\n",
      "p : 1\n",
      "q : 0\n",
      "r : 0\n",
      "s : 2\n",
      "t : 1\n",
      "u : 0\n",
      "v : 0\n",
      "w : 0\n",
      "x : 0\n",
      "y : 0\n",
      "z : 0\n"
     ]
    }
   ],
   "source": [
    "lstA = list(str(input().lower()))\n",
    "lstB = []\n",
    "for i in lstA:\n",
    "    lstB.append(ord(i))\n",
    "n = len(lstB)\n",
    "for i in range(97,123):\n",
    "    count = 0\n",
    "    for j in range(n):\n",
    "        if lstB[j]==i:\n",
    "            count = count+1\n",
    "    print(chr(i)+\" : \"+str(count))\n",
    "    "
   ]
  },
  {
   "cell_type": "code",
   "execution_count": null,
   "metadata": {},
   "outputs": [],
   "source": []
  }
 ],
 "metadata": {
  "kernelspec": {
   "display_name": "Python 3",
   "language": "python",
   "name": "python3"
  },
  "language_info": {
   "codemirror_mode": {
    "name": "ipython",
    "version": 3
   },
   "file_extension": ".py",
   "mimetype": "text/x-python",
   "name": "python",
   "nbconvert_exporter": "python",
   "pygments_lexer": "ipython3",
   "version": "3.7.6"
  }
 },
 "nbformat": 4,
 "nbformat_minor": 4
}
