{
 "cells": [
  {
   "cell_type": "code",
   "execution_count": 2,
   "metadata": {},
   "outputs": [
    {
     "name": "stdout",
     "output_type": "stream",
     "text": [
      "87\n",
      "case 1: 87\n",
      "2\n",
      "case 2: 2\n",
      "4\n",
      "case 3: 4\n",
      "1\n",
      "case 4: 1\n",
      "5\n",
      "case 5: 5\n",
      "7\n",
      "case 6: 7\n",
      "8\n",
      "case 7: 8\n",
      "0\n"
     ]
    }
   ],
   "source": [
    "s = 1\n",
    "while True:\n",
    "    a = int(input())\n",
    "    if a == 0:\n",
    "        break\n",
    "    print(\"case \"+str(s)+\": \"+str(a))\n",
    "    s = s+1"
   ]
  },
  {
   "cell_type": "code",
   "execution_count": null,
   "metadata": {},
   "outputs": [],
   "source": []
  }
 ],
 "metadata": {
  "kernelspec": {
   "display_name": "Python 3",
   "language": "python",
   "name": "python3"
  },
  "language_info": {
   "codemirror_mode": {
    "name": "ipython",
    "version": 3
   },
   "file_extension": ".py",
   "mimetype": "text/x-python",
   "name": "python",
   "nbconvert_exporter": "python",
   "pygments_lexer": "ipython3",
   "version": "3.7.6"
  }
 },
 "nbformat": 4,
 "nbformat_minor": 4
}
